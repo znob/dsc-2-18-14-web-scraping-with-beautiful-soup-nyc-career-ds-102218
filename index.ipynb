{
 "cells": [
  {
   "cell_type": "markdown",
   "metadata": {},
   "source": [
    "# Web Scraping with Beautiful Soup"
   ]
  },
  {
   "cell_type": "markdown",
   "metadata": {},
   "source": [
    "## Introduction\n",
    "\n",
    "The web is full of great datasets, but not all of them are readily available for download and analysis.\n",
    "Today we'll take a look at how you can surf the web robotically, saving the relevant information into storage containers as you go!\n",
    "\n",
    "We'll be taking a look at two main packages:\n",
    "* Beautiful Soup\n",
    "* Pandas\n",
    "\n",
    "Our general approach will be:\n",
    "* pick a domain/set of web pages to scrape\n",
    "* investigate those web pages using the developers tools from your web browser (such as Chrome or Firefox)\n",
    "* write rules to select the relevant objects from the DOM\n",
    "* parse information from those objects and store it in a container"
   ]
  },
  {
   "cell_type": "markdown",
   "metadata": {},
   "source": [
    "## Objectives\n",
    "You will be able to:\n",
    "* Scrape static webpages\n",
    "* Select specific elements from the DOM"
   ]
  },
  {
   "cell_type": "markdown",
   "metadata": {},
   "source": [
    "## Web Page Introduction: **The DOM + HTML**"
   ]
  },
  {
   "cell_type": "markdown",
   "metadata": {},
   "source": [
    "Before we start scraping, having a little background about how web pages are formatted is very helpful.\n",
    "\n",
    "\"The Document Object Model (DOM) is a programming interface for HTML and XML documents. It represents the page so that programs can change the document structure, style, and content. The DOM represents the document as nodes and objects. That way, programming languages can connect to the page.\" Amongst other things, this allows programming languages such as javascript to interactively change the page and HTML!  \n",
    "\n",
    "What you'll see is the DOM and HTML create a hierarchy of elements. This structure and the underlying elements can be naviagated similar to a family tree which is one of Beautiful Soups main mechanisms for naviagation; once you select a specific element within a page you can then navigate to successive elements using methods such as sibling, parent or descendents.\n",
    "  \n",
    "To learn more about the DOM see:  \n",
    "https://developer.mozilla.org/en-US/docs/Web/API/Document_Object_Model/Introduction"
   ]
  },
  {
   "cell_type": "markdown",
   "metadata": {},
   "source": [
    "![](./images/DOM-model.svg.png)"
   ]
  },
  {
   "cell_type": "markdown",
   "metadata": {},
   "source": [
    "## Beautiful Soup   \n",
    "https://www.crummy.com/software/BeautifulSoup/bs4/doc/   \n",
    "\n",
    "Beautiful Soup is a Python library designed for quick turnaround projects like screen-scraping. Three features make it powerful:\n",
    "\n",
    "* Beautiful Soup provides a few simple methods and Pythonic idioms for navigating, searching, and modifying a parse tree: a toolkit for dissecting a document and extracting what you need. It doesn't take much code to write an application\n",
    "\n",
    "* Beautiful Soup automatically converts incoming documents to Unicode and outgoing documents to UTF-8. You don't have to think about encodings, unless the document doesn't specify an encoding and Beautiful Soup can't detect one. Then you just have to specify the original encoding.\n",
    "\n",
    "* Beautiful Soup sits on top of popular Python parsers like lxml and html5lib, allowing you to try out different parsing strategies or trade speed for flexibility.\n",
    "\n",
    "Beautiful Soup parses anything you give it, and does the tree traversal stuff for you. You can tell it \"Find all the links\", or \"Find all the links of class externalLink\", or \"Find all the links whose urls match \"foo.com\", or \"Find the table heading that's got bold text, then give me that text.\""
   ]
  },
  {
   "cell_type": "code",
   "execution_count": 9,
   "metadata": {},
   "outputs": [],
   "source": [
    "\n",
    "from bs4 import BeautifulSoup\n",
    "import requests\n",
    "import re\n",
    "import pandas as pd"
   ]
  },
  {
   "cell_type": "markdown",
   "metadata": {},
   "source": [
    "## An example webpage"
   ]
  },
  {
   "cell_type": "code",
   "execution_count": 10,
   "metadata": {},
   "outputs": [
    {
     "name": "stdout",
     "output_type": "stream",
     "text": [
      "<html>\n",
      " <head>\n",
      "  <title>\n",
      "   The Dormouse's story\n",
      "  </title>\n",
      " </head>\n",
      " <body>\n",
      "  <p class=\"title\">\n",
      "   <b>\n",
      "    The Dormouse's story\n",
      "   </b>\n",
      "  </p>\n",
      "  <p class=\"story\">\n",
      "   Once upon a time there were three little sisters; and their names were\n",
      "   <a class=\"sister\" href=\"http://example.com/elsie\" id=\"link1\">\n",
      "    Elsie\n",
      "   </a>\n",
      "   ,\n",
      "   <a class=\"sister\" href=\"http://example.com/lacie\" id=\"link2\">\n",
      "    Lacie\n",
      "   </a>\n",
      "   and\n",
      "   <a class=\"sister\" href=\"http://example.com/tillie\" id=\"link2\">\n",
      "    Tillie\n",
      "   </a>\n",
      "   ; and they lived at the bottom of a well.\n",
      "  </p>\n",
      "  <p class=\"story\">\n",
      "   ...\n",
      "  </p>\n",
      " </body>\n",
      "</html>\n"
     ]
    }
   ],
   "source": [
    "with open('sample_page.html') as f:\n",
    "    soup = BeautifulSoup(f, 'html.parser')\n",
    "print(soup.prettify())"
   ]
  },
  {
   "cell_type": "markdown",
   "metadata": {},
   "source": [
    "#### A few introductory Beautiful Soup Selections..."
   ]
  },
  {
   "cell_type": "code",
   "execution_count": 15,
   "metadata": {},
   "outputs": [
    {
     "name": "stdout",
     "output_type": "stream",
     "text": [
      "<title>\n",
      "    The Dormouse's story\n",
      "   </title>\n",
      "title\n",
      "\n",
      "    The Dormouse's story\n",
      "   \n",
      "head\n",
      "<p class=\"title\">\n",
      "<b>\n",
      "     The Dormouse's story\n",
      "    </b>\n",
      "</p>\n",
      "['title']\n",
      "<a class=\"sister\" href=\"http://example.com/elsie\" id=\"link1\">\n",
      "     Elsie\n",
      "    </a>\n",
      "[<a class=\"sister\" href=\"http://example.com/elsie\" id=\"link1\">\n",
      "     Elsie\n",
      "    </a>, <a class=\"sister\" href=\"http://example.com/lacie\" id=\"link2\">\n",
      "     Lacie\n",
      "    </a>, <a class=\"sister\" href=\"http://example.com/tillie\" id=\"link2\">\n",
      "     Tillie\n",
      "    </a>]\n",
      "None\n"
     ]
    }
   ],
   "source": [
    "print(soup.title)\n",
    "# <title>The Dormouse's story</title>\n",
    "\n",
    "print(soup.title.name)\n",
    "# u'title'\n",
    "\n",
    "print(soup.title.string)\n",
    "# u'The Dormouse's story'\n",
    "\n",
    "print(soup.title.parent.name)\n",
    "# u'head'\n",
    "\n",
    "print(soup.p)\n",
    "# <p class=\"title\"><b>The Dormouse's story</b></p>\n",
    "\n",
    "print(soup.p['class'])\n",
    "# u'title'\n",
    "\n",
    "print(soup.a)\n",
    "# <a class=\"sister\" href=\"http://example.com/elsie\" id=\"link1\">Elsie</a>\n",
    "\n",
    "print(soup.find_all('a'))\n",
    "# [<a class=\"sister\" href=\"http://example.com/elsie\" id=\"link1\">Elsie</a>,\n",
    "#  <a class=\"sister\" href=\"http://example.com/lacie\" id=\"link2\">Lacie</a>,\n",
    "#  <a class=\"sister\" href=\"http://example.com/tillie\" id=\"link3\">Tillie</a>]\n",
    "\n",
    "print(soup.find(id=\"link3\"))\n",
    "# <a class=\"sister\" href=\"http://example.com/tillie\" id=\"link3\">Tillie</a>"
   ]
  },
  {
   "cell_type": "markdown",
   "metadata": {},
   "source": [
    "## Grabbing a Web Page"
   ]
  },
  {
   "cell_type": "code",
   "execution_count": 1,
   "metadata": {},
   "outputs": [
    {
     "ename": "NameError",
     "evalue": "name 'requests' is not defined",
     "output_type": "error",
     "traceback": [
      "\u001b[0;31m\u001b[0m",
      "\u001b[0;31mNameError\u001b[0mTraceback (most recent call last)",
      "\u001b[0;32m<ipython-input-1-8b336d3a8577>\u001b[0m in \u001b[0;36m<module>\u001b[0;34m()\u001b[0m\n\u001b[0;32m----> 1\u001b[0;31m \u001b[0mhtml_page\u001b[0m \u001b[0;34m=\u001b[0m \u001b[0mrequests\u001b[0m\u001b[0;34m.\u001b[0m\u001b[0mget\u001b[0m\u001b[0;34m(\u001b[0m\u001b[0;34m'https://www.azlyrics.com/'\u001b[0m\u001b[0;34m)\u001b[0m \u001b[0;31m#Make a get request to retrieve the page\u001b[0m\u001b[0;34m\u001b[0m\u001b[0m\n\u001b[0m\u001b[1;32m      2\u001b[0m \u001b[0msoup\u001b[0m \u001b[0;34m=\u001b[0m \u001b[0mBeautifulSoup\u001b[0m\u001b[0;34m(\u001b[0m\u001b[0mhtml_page\u001b[0m\u001b[0;34m.\u001b[0m\u001b[0mcontent\u001b[0m\u001b[0;34m,\u001b[0m \u001b[0;34m'html.parser'\u001b[0m\u001b[0;34m)\u001b[0m \u001b[0;31m#Pass the page contents to beautiful soup for parsing\u001b[0m\u001b[0;34m\u001b[0m\u001b[0m\n",
      "\u001b[0;31mNameError\u001b[0m: name 'requests' is not defined"
     ]
    }
   ],
   "source": [
    "html_page = requests.get('https://www.azlyrics.com/') #Make a get request to retrieve the page\n",
    "soup = BeautifulSoup(html_page.content, 'html.parser') #Pass the page contents to beautiful soup for parsing"
   ]
  },
  {
   "cell_type": "code",
   "execution_count": 17,
   "metadata": {},
   "outputs": [
    {
     "name": "stdout",
     "output_type": "stream",
     "text": [
      "<!DOCTYPE html>\n",
      "<html lang=\"en\">\n",
      " <head>\n",
      "  <meta charset=\"utf-8\"/>\n",
      "  <meta content=\"IE=edge\" http-equiv=\"X-UA-Compatible\"/>\n",
      "  <meta content=\"width=device-width, initial-scale=1\" name=\"viewport\"/>\n",
      "  <meta content=\"noarchive\" name=\"robots\"/>\n",
      "  <meta content=\"AZLyrics\" name=\"name\"/>\n",
      "  <meta content=\"lyrics,music,song lyrics,songs,paroles\" name=\"keywords\"/>\n",
      "  <base href=\"//www.azlyrics.com\"/>\n",
      "  <script src=\"//www.azlyrics.com/external.js\" type=\"text/javascript\">\n",
      "  </script>\n",
      "  <title>\n",
      "   AZLyrics - Song Lyrics from A to Z\n",
      "  </title>\n",
      "  <link href=\"https://maxcdn.bootstrapcdn.com/bootstrap/3.3.4/css/bootstrap.min.css\" rel=\"stylesheet\"/>\n",
      "  <link href=\"//www.azlyrics.com/bsaz.css\" rel=\"stylesheet\"/>\n",
      "  <!-- HTML5 shim and Respond.js for IE8 support of HTML5 elements and media queries -->\n",
      "  <!--[if lt IE 9]>\r\n",
      "      <script src=\"https://oss.maxcdn.com/html5shiv/3.7.2/html5shiv.min.js\"></script>\r\n",
      "      <script src=\"https://oss.maxcdn.com/respond/1.4.2/respond.min.js\"></script>\r\n",
      "    <![endif]-->\n",
      "  <\n"
     ]
    }
   ],
   "source": [
    "#Preview the soup....MMMMMM SOUP :)\n",
    "print(soup.prettify()[:1000])"
   ]
  },
  {
   "cell_type": "markdown",
   "metadata": {},
   "source": [
    "### Inspecting the Web Page for Relevant Elements"
   ]
  },
  {
   "cell_type": "markdown",
   "metadata": {},
   "source": [
    "Here's the page itself:\n",
    "\n",
    "![](./images/home_page.png)"
   ]
  },
  {
   "cell_type": "markdown",
   "metadata": {},
   "source": [
    "## Parsing the DOM"
   ]
  },
  {
   "cell_type": "markdown",
   "metadata": {},
   "source": [
    "### soup.findAll()"
   ]
  },
  {
   "cell_type": "markdown",
   "metadata": {},
   "source": [
    "One common method we'll be use to navigate through the web page to extract information of interest is the soup.findAll() method.\n",
    "\n",
    "**Here's the docstring which you can bring up by typing (soup.findAll? [shift+enter])**  \n",
    "\n",
    "soup.findAll(name=None, attrs={}, recursive=True, text=None, limit=None, **kwargs)  \n",
    "\n",
    "Docstring:\n",
    "Extracts a list of Tag objects that match the given\n",
    "criteria.  You can specify the name of the Tag and any\n",
    "attributes you want the Tag to have.   \n",
    "\n",
    "The value of a key-value pair in the 'attrs' map can be a\n",
    "string, a list of strings, a regular expression object, or a\n",
    "callable that takes a string and returns whether or not the\n",
    "string matches for some custom definition of 'matches'. The\n",
    "same is true of the tag name."
   ]
  },
  {
   "cell_type": "code",
   "execution_count": 18,
   "metadata": {},
   "outputs": [
    {
     "data": {
      "text/plain": [
       "[<a class=\"btn btn-menu\" href=\"//www.azlyrics.com/y.html\">Y</a>,\n",
       " <a class=\"btn btn-menu\" href=\"//www.azlyrics.com/z.html\">Z</a>,\n",
       " <a class=\"btn btn-menu\" href=\"//www.azlyrics.com/19.html\">#</a>,\n",
       " <a href=\"/b/barbrastreisand.html#61800\"><img alt=\"\" src=\"/hot/61800.jpg\"/></a>,\n",
       " <a href=\"/b/barbrastreisand.html#61800\">Barbra Streisand</a>,\n",
       " <a href=\"/e/exo.html#62087\"><img alt=\"\" src=\"/hot/62087.jpg\"/></a>,\n",
       " <a href=\"/e/exo.html#62087\">EXO</a>,\n",
       " <a href=\"/p/pistolannies.html#61781\"><img alt=\"\" src=\"/hot/61781.jpg\"/></a>,\n",
       " <a href=\"/p/pistolannies.html#61781\">Pistol Annies</a>,\n",
       " <a href=\"/t/takeoff.html#62811\"><img alt=\"\" src=\"/hot/62811.jpg\"/></a>]"
      ]
     },
     "execution_count": 18,
     "metadata": {},
     "output_type": "execute_result"
    }
   ],
   "source": [
    "#Get all the hyperlinks on a page\n",
    "links = soup.findAll('a')\n",
    "links[25:35]"
   ]
  },
  {
   "cell_type": "markdown",
   "metadata": {},
   "source": [
    "## Lets pull one of the link pages and see what we can get!  \n",
    "**Notice that these are relative links that all refer to pages and subdirectories within the azlyrics domain.**  \n",
    "We'll have to be sure to account for this when pulling successive pages."
   ]
  },
  {
   "cell_type": "code",
   "execution_count": 31,
   "metadata": {},
   "outputs": [
    {
     "name": "stdout",
     "output_type": "stream",
     "text": [
      "<!DOCTYPE html>\n",
      "<html lang=\"en\">\n",
      " <head>\n",
      "  <meta charset=\"utf-8\"/>\n",
      "  <meta content=\"IE=edge\" http-equiv=\"X-UA-Compatible\"/>\n",
      "  <meta content=\"width=device-width, initial-scale=1\" name=\"viewport\"/>\n",
      "  <!-- The above 3 meta tags *must* come first in the head; any other head content must come *after* these tags -->\n",
      "  <meta content='Future lyrics - 345 song lyrics sorted by album, including \"Hard Work Pays Off\", \"Fine China\", \"Transformer\".' name=\"description\"/>\n",
      "  <meta content=\"Future, Future lyrics, discography, albums, songs\" name=\"keywords\"/>\n",
      "  <meta content=\"noarchive\" name=\"robots\"/>\n",
      "  <title>\n",
      "   Future Lyrics\n",
      "  </title>\n",
      "  <link href=\"https://maxcdn.bootstrapcdn.com/bootstrap/3.3.4/css/bootstrap.min.css\" rel=\"stylesheet\"/>\n",
      "  <link href=\"//www.azlyrics.com/bsaz.css\" rel=\"stylesheet\"/>\n",
      "  <!-- HTML5 shim and Respond.js for IE8 support of HTML5 elements and media queries -->\n",
      "  <!--[if lt IE 9]>\r\n",
      "<script src=\"https://oss.maxcdn.com/html5shiv/3.7.2/html5shiv.min.js\"></script>\r\n",
      "<script src=\"h\n"
     ]
    }
   ],
   "source": [
    "link = links[48]\n",
    "url_base = 'https://www.azlyrics.com/'\n",
    "url_ext = link.get('href')\n",
    "html_page = requests.get(url_base + url_ext)\n",
    "soup = BeautifulSoup(html_page.content, 'html.parser')\n",
    "print(soup.prettify()[:1000])"
   ]
  },
  {
   "cell_type": "markdown",
   "metadata": {},
   "source": [
    "### More parsing!\n",
    "Here's what the page looks like in a web browser:\n",
    "\n",
    "![](./images/artist_page.png)\n",
    "\n",
    "Now let's retrieve a list of the song pages as well as their assosciated albums!"
   ]
  },
  {
   "cell_type": "markdown",
   "metadata": {},
   "source": [
    "### Pulling out the Album Headers\n",
    "\n",
    "![](./images/artist_inspect.png)\n",
    "We want something more specific so let's look at the page itself.  \n",
    "Right click (windows)/ option + click (mac) on one of the album titles and go to **inspect**.  \n",
    "\n",
    "You should see something like this:\n",
    "![](./images/artist_inspect_detailed.png)\n",
    "\n",
    "Look at the details for the album header:  \n",
    "  \n",
    "  \n",
    "![](./images/inspect_div_detailed.png)\n",
    "It's a div container called 'album'! Let's use this to select the various albums from the page."
   ]
  },
  {
   "cell_type": "code",
   "execution_count": 32,
   "metadata": {},
   "outputs": [
    {
     "name": "stdout",
     "output_type": "stream",
     "text": [
      "Number of matches: 21\n",
      "Object type: <class 'bs4.element.ResultSet'>\n",
      "Preview of objects:\n",
      "[<div class=\"album\">mixtape: <b>\"True Story\"</b> (2011)</div>, <div class=\"album\">mixtape: <b>\"Streetz Calling\"</b> (2011)</div>]\n"
     ]
    }
   ],
   "source": [
    "albums = soup.find_all(\"div\", class_=\"album\")\n",
    "print('Number of matches: {}'.format(len(albums)))\n",
    "print('Object type: {}'.format(type(albums)))\n",
    "print('Preview of objects:\\n{}'.format(albums[:2]))"
   ]
  },
  {
   "cell_type": "markdown",
   "metadata": {},
   "source": [
    "### Navigating the DOM Hierarchy\n",
    "![](./images/artist_song_inspect.png)\n",
    "Notice that under each of these album DIVs there are links for each of the songs.  \n",
    "These links aren't children of the div object in the page's structure (they could be but that's not how this website structured them.) Instead, they are siblings to the div element."
   ]
  },
  {
   "cell_type": "markdown",
   "metadata": {},
   "source": [
    "### Pulling out the Song Titles and Pages\n",
    "Let's start by taking a look at all of the hyperlinked siblings of the first album we found."
   ]
  },
  {
   "cell_type": "code",
   "execution_count": 34,
   "metadata": {},
   "outputs": [
    {
     "data": {
      "text/plain": [
       "[<a href=\"../lyrics/future/freebandgang.html\" target=\"_blank\">Freeband Gang</a>,\n",
       " <a href=\"../lyrics/future/magic.html\" target=\"_blank\">Magic</a>,\n",
       " <a href=\"../lyrics/future/aintnowayaroundit.html\" target=\"_blank\">Ain't No Way Around It</a>,\n",
       " <a href=\"../lyrics/future/tonymontana.html\" target=\"_blank\">Tony Montana</a>,\n",
       " <a href=\"../lyrics/future/biggerpicture.html\" target=\"_blank\">Bigger Picture</a>,\n",
       " <a href=\"../lyrics/future/longtimecoming.html\" target=\"_blank\">Long Time Coming</a>,\n",
       " <a href=\"../lyrics/future/smokemirrors.html\" target=\"_blank\">Smoke &amp; Mirrors</a>,\n",
       " <a href=\"../lyrics/future/blastoff.html\" target=\"_blank\">Blast Off</a>,\n",
       " <a id=\"25860\"></a>,\n",
       " <a href=\"../lyrics/future/samedamntime.html\" target=\"_blank\">Same Damn Time</a>,\n",
       " <a href=\"../lyrics/future/nameholdweight.html\" target=\"_blank\">Name Hold Weight</a>,\n",
       " <a href=\"../lyrics/future/cantmakethisup.html\" target=\"_blank\">Can't Make This Up</a>,\n",
       " <a href=\"../lyrics/future/runningthroughacheck.html\" target=\"_blank\">Running Through A Check</a>,\n",
       " <a href=\"../lyrics/future/ballforever.html\" target=\"_blank\">Ball Forever</a>,\n",
       " <a href=\"../lyrics/future/neverbethesame.html\" target=\"_blank\">Never Be The Same</a>,\n",
       " <a href=\"../lyrics/future/gonetothemoon.html\" target=\"_blank\">Gone To The Moon</a>,\n",
       " <a href=\"../lyrics/future/easterpink.html\" target=\"_blank\">Easter Pink</a>,\n",
       " <a href=\"../lyrics/future/unconditionallove.html\" target=\"_blank\">Unconditional Love</a>,\n",
       " <a id=\"22312\"></a>,\n",
       " <a href=\"../lyrics/future/abuintroturnup.html\" target=\"_blank\">Abu Intro Turn Up</a>,\n",
       " <a href=\"../lyrics/future/futureback.html\" target=\"_blank\">Future Back</a>,\n",
       " <a href=\"../lyrics/future/spacecadets.html\" target=\"_blank\">Space Cadets</a>,\n",
       " <a href=\"../lyrics/future/birdstakeabath.html\" target=\"_blank\">Birds Take A Bath</a>,\n",
       " <a href=\"../lyrics/future/nunbout.html\" target=\"_blank\">Nunbout</a>,\n",
       " <a href=\"../lyrics/future/swapitout.html\" target=\"_blank\">Swap It Out</a>,\n",
       " <a href=\"../lyrics/future/jordandiddyinterlude.html\" target=\"_blank\">Jordan Diddy Interlude</a>,\n",
       " <a href=\"../lyrics/future/jordandiddy.html\" target=\"_blank\">Jordan Diddy</a>,\n",
       " <a href=\"../lyrics/future/blow.html\" target=\"_blank\">Blow</a>,\n",
       " <a href=\"../lyrics/future/deeperthantheocean.html\" target=\"_blank\">Deeper Than The Ocean</a>,\n",
       " <a href=\"../lyrics/future/myho2.html\" target=\"_blank\">My Ho 2</a>,\n",
       " <a href=\"../lyrics/future/best2shine.html\" target=\"_blank\">Best 2 Shine</a>,\n",
       " <a href=\"../lyrics/future/neverseenthoseskit.html\" target=\"_blank\">Never Seen Those Skit</a>,\n",
       " <a href=\"../lyrics/future/neverseenthese.html\" target=\"_blank\">Never Seen These</a>,\n",
       " <a href=\"../lyrics/future/shoppingspree.html\" target=\"_blank\">Shopping Spree</a>,\n",
       " <a href=\"../lyrics/future/rider.html\" target=\"_blank\">Rider</a>,\n",
       " <a href=\"../lyrics/future/spazonyall.html\" target=\"_blank\">Spaz On Yall</a>,\n",
       " <a href=\"../lyrics/future/itchin.html\" target=\"_blank\">Itchin'</a>,\n",
       " <a href=\"../lyrics/future/nomatterwhat.html\" target=\"_blank\">No Matter What</a>,\n",
       " <a id=\"22952\"></a>,\n",
       " <a href=\"../lyrics/future/thefutureisnow.html\" target=\"_blank\">The Future Is Now</a>,\n",
       " <a href=\"../lyrics/future/parachute.html\" target=\"_blank\">Parachute</a>,\n",
       " <a href=\"../lyrics/future/straightup.html\" target=\"_blank\">Straight Up</a>,\n",
       " <a href=\"../lyrics/future/astronautchick.html\" target=\"_blank\">Astronaut Chick</a>,\n",
       " <a href=\"../lyrics/future/magicremix.html\" target=\"_blank\">Magic (Remix)</a>,\n",
       " <a href=\"../lyrics/future/imtrippin.html\" target=\"_blank\">I'm Trippin'</a>,\n",
       " <a href=\"../lyrics/future/truthgonnahurtyou.html\" target=\"_blank\">Truth Gonna Hurt You</a>,\n",
       " <a href=\"../lyrics/future/nevaend.html\" target=\"_blank\">Neva End</a>,\n",
       " <a href=\"../lyrics/future/tonymontana.html\" target=\"_blank\">Tony Montana</a>,\n",
       " <a href=\"../lyrics/future/permanentscar.html\" target=\"_blank\">Permanent Scar</a>,\n",
       " <a href=\"../lyrics/future/samedamntime.html\" target=\"_blank\">Same Damn Time</a>,\n",
       " <a href=\"../lyrics/future/longlivethepimp.html\" target=\"_blank\">Long Live The Pimp</a>,\n",
       " <a href=\"../lyrics/future/homicide.html\" target=\"_blank\">Homicide</a>,\n",
       " <a href=\"../lyrics/future/turnonthelights.html\" target=\"_blank\">Turn On The Lights</a>,\n",
       " <a href=\"../lyrics/future/youdeserveit.html\" target=\"_blank\">You Deserve It</a>,\n",
       " <a href=\"../lyrics/future/fishscale.html\" target=\"_blank\">Fishscale</a>,\n",
       " <a href=\"../lyrics/future/goharder.html\" target=\"_blank\">Go Harder</a>,\n",
       " <a href=\"../lyrics/future/paradise.html\" target=\"_blank\">Paradise</a>,\n",
       " <a href=\"../lyrics/future/firstclassflights.html\" target=\"_blank\">First Class Flights</a>,\n",
       " <a href=\"../lyrics/future/jealous.html\" target=\"_blank\">Jealous</a>,\n",
       " <a href=\"../lyrics/future/my.html\" target=\"_blank\">My</a>,\n",
       " <a href=\"../lyrics/future/samedamntimeremix.html\" target=\"_blank\">Same Damn Time (Remix)</a>,\n",
       " <a href=\"../lyrics/future/nevaendremix.html\" target=\"_blank\">Neva End (Remix)</a>,\n",
       " <a id=\"25849\"></a>,\n",
       " <a href=\"../lyrics/future/intro.html\" target=\"_blank\">Intro</a>,\n",
       " <a href=\"../lyrics/future/foreal.html\" target=\"_blank\">Fo Real</a>,\n",
       " <a href=\"../lyrics/future/ceelo.html\" target=\"_blank\">Ceelo</a>,\n",
       " <a href=\"../lyrics/future/muphucka.html\" target=\"_blank\">Muphucka</a>,\n",
       " <a href=\"../lyrics/future/markmcgwire.html\" target=\"_blank\">Mark McGwire</a>,\n",
       " <a href=\"http://www.azlyrics.com/lyrics/lilwayne/bitcheslovemegoodkushalcohol.html\" target=\"_blank\">Bitches Love Me</a>,\n",
       " <a href=\"../lyrics/future/billionaireminds.html\" target=\"_blank\">Billionaire Minds</a>,\n",
       " <a href=\"../lyrics/future/karatechop.html\" target=\"_blank\">Karate Chop</a>,\n",
       " <a href=\"../lyrics/future/everythingours.html\" target=\"_blank\">Everything Ours</a>,\n",
       " <a href=\"../lyrics/future/chosenone.html\" target=\"_blank\">Chosen One</a>,\n",
       " <a href=\"../lyrics/future/killinit.html\" target=\"_blank\">Killin it</a>,\n",
       " <a href=\"../lyrics/future/backatit.html\" target=\"_blank\">Back At It</a>,\n",
       " <a href=\"../lyrics/future/intlswagger.html\" target=\"_blank\">INTL Swagger</a>,\n",
       " <a href=\"../lyrics/future/dna.html\" target=\"_blank\">DNA</a>,\n",
       " <a href=\"../lyrics/future/appeal.html\" target=\"_blank\">Appeal</a>,\n",
       " <a href=\"../lyrics/future/whipgame.html\" target=\"_blank\">Whip Game</a>,\n",
       " <a href=\"../lyrics/future/bigrube.html\" target=\"_blank\">Big Rube</a>,\n",
       " <a href=\"../lyrics/future/keeponshinin.html\" target=\"_blank\">Keep On Shinin</a>,\n",
       " <a href=\"../lyrics/future/youwonder.html\" target=\"_blank\">You Wonder</a>,\n",
       " <a href=\"../lyrics/future/finessin.html\" target=\"_blank\">Finessin</a>,\n",
       " <a href=\"../lyrics/future/missing.html\" target=\"_blank\">Missing</a>,\n",
       " <a href=\"../lyrics/future/freebandtaliban.html\" target=\"_blank\">Freeband Taliban</a>,\n",
       " <a href=\"../lyrics/future/ogddrop.html\" target=\"_blank\">OG D Drop</a>,\n",
       " <a href=\"../lyrics/future/seeittobelieveit.html\" target=\"_blank\">See It To Believe It</a>,\n",
       " <a id=\"28172\"></a>,\n",
       " <a href=\"../lyrics/future/lookahead.html\" target=\"_blank\">Look Ahead</a>,\n",
       " <a href=\"../lyrics/future/tshirt.html\" target=\"_blank\">T-Shirt</a>,\n",
       " <a href=\"../lyrics/future/movethatdope.html\" target=\"_blank\">Move That Dope</a>,\n",
       " <a href=\"../lyrics/future/mymomma.html\" target=\"_blank\">My Momma</a>,\n",
       " <a href=\"../lyrics/future/honest.html\" target=\"_blank\">Honest</a>,\n",
       " <a href=\"../lyrics/future/iwon.html\" target=\"_blank\">I Won</a>,\n",
       " <a href=\"../lyrics/future/neversatisfied.html\" target=\"_blank\">Never Satisfied</a>,\n",
       " <a href=\"../lyrics/future/ibeu.html\" target=\"_blank\">I Be U</a>,\n",
       " <a href=\"../lyrics/future/coverednmoney.html\" target=\"_blank\">Covered N Money</a>,\n",
       " <a href=\"../lyrics/future/special.html\" target=\"_blank\">Special</a>,\n",
       " <a href=\"../lyrics/future/benzfriendzwhatchutola.html\" target=\"_blank\">Benz Friendz (Whatchutola)</a>,\n",
       " <a href=\"../lyrics/future/bloodsweattears.html\" target=\"_blank\">Blood, Sweat, Tears</a>,\n",
       " <a href=\"../lyrics/future/bigrubespeaks.html\" target=\"_blank\">Big Rube Speaks</a>,\n",
       " <a href=\"../lyrics/future/sideeffects.html\" target=\"_blank\">Side Effects</a>,\n",
       " <a href=\"../lyrics/future/illbeyours.html\" target=\"_blank\">I'll Be Yours</a>,\n",
       " <a href=\"../lyrics/future/howcaninot.html\" target=\"_blank\">How Can I Not</a>,\n",
       " <a href=\"../lyrics/future/sht.html\" target=\"_blank\">Sh!t</a>,\n",
       " <a href=\"../lyrics/future/karatechopremix.html\" target=\"_blank\">Karate Chop (Remix)</a>,\n",
       " <a id=\"34545\"></a>,\n",
       " <a href=\"../lyrics/future/theintro.html\" target=\"_blank\">The Intro</a>,\n",
       " <a href=\"../lyrics/future/radical.html\" target=\"_blank\">Radical</a>,\n",
       " <a href=\"../lyrics/future/monster.html\" target=\"_blank\">Monster</a>,\n",
       " <a href=\"../lyrics/future/abusboomin.html\" target=\"_blank\">Abu's Boomin</a>,\n",
       " <a href=\"../lyrics/future/fuckupsomecommas.html\" target=\"_blank\">Fuck Up Some Commas</a>,\n",
       " <a href=\"../lyrics/future/throwaway.html\" target=\"_blank\">Throw Away</a>,\n",
       " <a href=\"../lyrics/future/afterthat.html\" target=\"_blank\">After That</a>,\n",
       " <a href=\"../lyrics/future/mysavages.html\" target=\"_blank\">My Savages</a>,\n",
       " <a href=\"../lyrics/future/2pac.html\" target=\"_blank\">2Pac</a>,\n",
       " <a href=\"../lyrics/future/gangland.html\" target=\"_blank\">Gangland</a>,\n",
       " <a href=\"../lyrics/future/fetti.html\" target=\"_blank\">Fetti</a>,\n",
       " <a href=\"../lyrics/future/hardly.html\" target=\"_blank\">Hardly</a>,\n",
       " <a href=\"../lyrics/future/wesleypresley.html\" target=\"_blank\">Wesley Presley</a>,\n",
       " <a href=\"../lyrics/future/showedup.html\" target=\"_blank\">Showed Up</a>,\n",
       " <a href=\"../lyrics/future/madluv.html\" target=\"_blank\">Mad Luv</a>,\n",
       " <a href=\"../lyrics/future/codeinecrazy.html\" target=\"_blank\">Codeine Crazy</a>,\n",
       " <a id=\"35979\"></a>,\n",
       " <a href=\"../lyrics/future/ooooh.html\" target=\"_blank\">Ooooh</a>,\n",
       " <a href=\"../lyrics/future/layup.html\" target=\"_blank\">Lay Up</a>,\n",
       " <a href=\"../lyrics/future/aintchu.html\" target=\"_blank\">Aintchu</a>,\n",
       " <a href=\"../lyrics/future/nobasic.html\" target=\"_blank\">No Basic</a>,\n",
       " <a href=\"../lyrics/future/peacoat.html\" target=\"_blank\">Peacoat</a>,\n",
       " <a href=\"../lyrics/future/justlikebruddas.html\" target=\"_blank\">Just Like Bruddas</a>,\n",
       " <a href=\"../lyrics/future/whereicamefrom.html\" target=\"_blank\">Where I Came From</a>,\n",
       " <a href=\"../lyrics/future/realsisters.html\" target=\"_blank\">Real Sisters</a>,\n",
       " <a href=\"../lyrics/future/forevereva.html\" target=\"_blank\">Forever Eva</a>,\n",
       " <a id=\"37425\"></a>,\n",
       " <a href=\"../lyrics/future/freeatlast.html\" target=\"_blank\">Free At Last</a>,\n",
       " <a href=\"../lyrics/future/nevergonlose.html\" target=\"_blank\">Never Gon Lose</a>,\n",
       " <a href=\"../lyrics/future/purplecomingin.html\" target=\"_blank\">Purple Coming In</a>,\n",
       " <a href=\"../lyrics/future/diamondsfromafrica.html\" target=\"_blank\">Diamonds From Africa</a>,\n",
       " <a href=\"../lyrics/future/now.html\" target=\"_blank\">Now</a>,\n",
       " <a href=\"../lyrics/future/nocompadre.html\" target=\"_blank\">No Compadre</a>,\n",
       " <a href=\"../lyrics/future/marchmadness.html\" target=\"_blank\">March Madness</a>,\n",
       " <a href=\"../lyrics/future/trapniggas.html\" target=\"_blank\">Trap Niggas</a>,\n",
       " <a href=\"../lyrics/future/dafamondagramskit.html\" target=\"_blank\">Da Fam On Da Gram (Skit)</a>,\n",
       " <a href=\"../lyrics/future/56nights.html\" target=\"_blank\">56 Nights</a>,\n",
       " <a id=\"39129\"></a>,\n",
       " <a href=\"../lyrics/future/thoughtitwasadrought.html\" target=\"_blank\">Thought It Was A Drought</a>,\n",
       " <a href=\"../lyrics/future/iservethebase.html\" target=\"_blank\">I Serve The Base</a>,\n",
       " <a href=\"../lyrics/future/whereyaat.html\" target=\"_blank\">Where Ya At</a>,\n",
       " <a href=\"../lyrics/future/groupies.html\" target=\"_blank\">Groupies</a>,\n",
       " <a href=\"../lyrics/future/lilone.html\" target=\"_blank\">Lil One</a>,\n",
       " <a href=\"../lyrics/future/sticktalk.html\" target=\"_blank\">Stick Talk</a>,\n",
       " <a href=\"../lyrics/future/freakhoe.html\" target=\"_blank\">Freak Hoe</a>,\n",
       " <a href=\"../lyrics/future/rotation.html\" target=\"_blank\">Rotation</a>,\n",
       " <a href=\"../lyrics/future/slavemaster.html\" target=\"_blank\">Slave Master</a>,\n",
       " <a href=\"../lyrics/future/blowabag.html\" target=\"_blank\">Blow A Bag</a>,\n",
       " <a href=\"../lyrics/future/colossal.html\" target=\"_blank\">Colossal</a>,\n",
       " <a href=\"../lyrics/future/richex.html\" target=\"_blank\">Rich $ex</a>,\n",
       " <a href=\"../lyrics/future/bloodonthemoney.html\" target=\"_blank\">Blood On The Money</a>,\n",
       " <a href=\"../lyrics/future/trapniggas.html\" target=\"_blank\">Trap Niggas</a>,\n",
       " <a href=\"../lyrics/future/thepercocetstripperjoint.html\" target=\"_blank\">The Percocet &amp; Stripper Joint</a>,\n",
       " <a href=\"../lyrics/future/realsisters.html\" target=\"_blank\">Real Sisters</a>,\n",
       " <a href=\"../lyrics/future/knothemeaning.html\" target=\"_blank\">Kno The Meaning</a>,\n",
       " <a href=\"../lyrics/future/fuckupsomecommas.html\" target=\"_blank\">Fuck Up Some Commas</a>,\n",
       " <a id=\"39649\"></a>,\n",
       " <a href=\"../lyrics/future/digitaldash.html\" target=\"_blank\">Digital Dash</a>,\n",
       " <a href=\"../lyrics/future/bigrings.html\" target=\"_blank\">Big Rings</a>,\n",
       " <a href=\"../lyrics/future/livefromthegutter.html\" target=\"_blank\">Live From The Gutter</a>,\n",
       " <a href=\"../lyrics/future/diamondsdancing.html\" target=\"_blank\">Diamonds Dancing</a>,\n",
       " <a href=\"../lyrics/future/scholarships.html\" target=\"_blank\">Scholarships</a>,\n",
       " <a href=\"../lyrics/future/plasticbag.html\" target=\"_blank\">Plastic Bag</a>,\n",
       " <a href=\"../lyrics/future/imtheplug.html\" target=\"_blank\">I'm The Plug</a>,\n",
       " <a href=\"../lyrics/future/changelocations.html\" target=\"_blank\">Change Locations</a>,\n",
       " <a href=\"../lyrics/future/jumpman.html\" target=\"_blank\">Jumpman</a>,\n",
       " <a href=\"../lyrics/future/jersey.html\" target=\"_blank\">Jersey</a>,\n",
       " <a href=\"../lyrics/future/30for30freestyle.html\" target=\"_blank\">30 For 30 Freestyle</a>,\n",
       " <a id=\"41001\"></a>,\n",
       " <a href=\"../lyrics/future/purplereignintro.html\" target=\"_blank\">Purple Reign Intro</a>,\n",
       " <a href=\"../lyrics/future/allright.html\" target=\"_blank\">All Right</a>,\n",
       " <a href=\"../lyrics/future/wicked.html\" target=\"_blank\">Wicked</a>,\n",
       " <a href=\"../lyrics/future/neverforget.html\" target=\"_blank\">Never Forget</a>,\n",
       " <a href=\"../lyrics/future/drippinhowuluvthat.html\" target=\"_blank\">Drippin (How U Luv That)</a>,\n",
       " <a href=\"../lyrics/future/insidethemattress.html\" target=\"_blank\">Inside The Mattress</a>,\n",
       " <a href=\"../lyrics/future/hatershit.html\" target=\"_blank\">Hater Shit</a>,\n",
       " <a href=\"../lyrics/future/salute.html\" target=\"_blank\">Salute</a>,\n",
       " <a href=\"../lyrics/future/byebye.html\" target=\"_blank\">Bye Bye</a>,\n",
       " <a href=\"../lyrics/future/nocharge.html\" target=\"_blank\">No Charge</a>,\n",
       " <a href=\"../lyrics/future/runup.html\" target=\"_blank\">Run Up</a>,\n",
       " <a href=\"../lyrics/future/perkyscalling.html\" target=\"_blank\">Perkys Calling</a>,\n",
       " <a href=\"../lyrics/future/purplereign.html\" target=\"_blank\">Purple Reign</a>,\n",
       " <a id=\"41457\"></a>,\n",
       " <a href=\"../lyrics/future/aintnotime.html\" target=\"_blank\">Ain't No Time</a>,\n",
       " <a href=\"../lyrics/future/inhermouth.html\" target=\"_blank\">In Her Mouth</a>,\n",
       " <a href=\"../lyrics/future/maybach.html\" target=\"_blank\">Maybach</a>,\n",
       " <a href=\"../lyrics/future/xannyfamily.html\" target=\"_blank\">Xanny Family</a>,\n",
       " <a href=\"../lyrics/future/lilhaitibaby.html\" target=\"_blank\">Lil Haiti Baby</a>,\n",
       " <a href=\"../lyrics/future/photocopied.html\" target=\"_blank\">Photo Copied</a>,\n",
       " <a href=\"../lyrics/future/sevenrings.html\" target=\"_blank\">Seven Rings</a>,\n",
       " <a href=\"../lyrics/future/lietome.html\" target=\"_blank\">Lie To Me</a>,\n",
       " <a href=\"../lyrics/future/program.html\" target=\"_blank\">Program</a>,\n",
       " <a href=\"../lyrics/future/lowlife.html\" target=\"_blank\">Low Life</a>,\n",
       " <a href=\"../lyrics/future/flyshitonly.html\" target=\"_blank\">Fly Shit Only</a>,\n",
       " <a id=\"45034\"></a>,\n",
       " <a href=\"http://www.azlyrics.com/lyrics/guccimane/rrtrucks.html\" target=\"_blank\">RR Trucks</a>,\n",
       " <a href=\"http://www.azlyrics.com/lyrics/guccimane/sellingheroin.html\" target=\"_blank\">Selling Heroin</a>,\n",
       " <a href=\"http://www.azlyrics.com/lyrics/guccimane/dieagangsta.html\" target=\"_blank\">Die A Gangsta</a>,\n",
       " <a href=\"http://www.azlyrics.com/lyrics/guccimane/kindadope.html\" target=\"_blank\">Kinda Dope</a>,\n",
       " <a href=\"http://www.azlyrics.com/lyrics/guccimane/allshooters.html\" target=\"_blank\">All Shooters</a>,\n",
       " <a href=\"http://www.azlyrics.com/lyrics/guccimane/zone6.html\" target=\"_blank\">Zone 6</a>,\n",
       " <a id=\"46400\"></a>,\n",
       " <a href=\"../lyrics/future/rentmoney.html\" target=\"_blank\">Rent Money</a>,\n",
       " <a href=\"../lyrics/future/gooddope.html\" target=\"_blank\">Good Dope</a>,\n",
       " <a href=\"../lyrics/future/zoom.html\" target=\"_blank\">Zoom</a>,\n",
       " <a href=\"../lyrics/future/draco.html\" target=\"_blank\">Draco</a>,\n",
       " <a href=\"../lyrics/future/supertrapper.html\" target=\"_blank\">Super Trapper</a>,\n",
       " <a href=\"../lyrics/future/poa.html\" target=\"_blank\">POA</a>,\n",
       " <a href=\"../lyrics/future/maskoff.html\" target=\"_blank\">Mask Off</a>,\n",
       " <a href=\"../lyrics/future/highdemand.html\" target=\"_blank\">High Demand</a>,\n",
       " <a href=\"../lyrics/future/outtatime.html\" target=\"_blank\">Outta Time</a>,\n",
       " <a href=\"../lyrics/future/scrape.html\" target=\"_blank\">Scrape</a>,\n",
       " <a href=\"../lyrics/future/imsogroovy.html\" target=\"_blank\">I'm So Groovy</a>,\n",
       " <a href=\"../lyrics/future/mightaswell.html\" target=\"_blank\">Might As Well</a>,\n",
       " <a href=\"../lyrics/future/poppintags.html\" target=\"_blank\">Poppin' Tags</a>,\n",
       " <a href=\"../lyrics/future/massageinmyroom.html\" target=\"_blank\">Massage In My Room</a>,\n",
       " <a href=\"../lyrics/future/flip.html\" target=\"_blank\">Flip</a>,\n",
       " <a href=\"../lyrics/future/wheniwasbroke.html\" target=\"_blank\">When I Was Broke</a>,\n",
       " <a href=\"../lyrics/future/fedsdidasweep.html\" target=\"_blank\">Feds Did A Sweep</a>,\n",
       " <a id=\"46520\"></a>,\n",
       " <a href=\"../lyrics/future/mycollection.html\" target=\"_blank\">My Collection</a>,\n",
       " <a href=\"../lyrics/future/cominoutstrong.html\" target=\"_blank\">Comin Out Strong</a>,\n",
       " <a href=\"../lyrics/future/lookinexotic.html\" target=\"_blank\">Lookin Exotic</a>,\n",
       " <a href=\"../lyrics/future/damage.html\" target=\"_blank\">Damage</a>,\n",
       " <a href=\"../lyrics/future/useme.html\" target=\"_blank\">Use Me</a>,\n",
       " <a href=\"../lyrics/future/incredible.html\" target=\"_blank\">Incredible</a>,\n",
       " <a href=\"../lyrics/future/testify.html\" target=\"_blank\">Testify</a>,\n",
       " <a href=\"../lyrics/future/freshair.html\" target=\"_blank\">Fresh Air</a>,\n",
       " <a href=\"../lyrics/future/nevamissalost.html\" target=\"_blank\">Neva Missa Lost</a>,\n",
       " <a href=\"../lyrics/future/keepquiet.html\" target=\"_blank\">Keep Quiet</a>,\n",
       " <a href=\"../lyrics/future/hallucinating.html\" target=\"_blank\">Hallucinating</a>,\n",
       " <a href=\"../lyrics/future/ithanku.html\" target=\"_blank\">I Thank U</a>,\n",
       " <a href=\"../lyrics/future/newilluminati.html\" target=\"_blank\">New Illuminati</a>,\n",
       " <a href=\"../lyrics/future/turnonme.html\" target=\"_blank\">Turn On Me</a>,\n",
       " <a href=\"../lyrics/future/selfish.html\" target=\"_blank\">Selfish</a>,\n",
       " <a href=\"../lyrics/future/solo.html\" target=\"_blank\">Solo</a>,\n",
       " <a href=\"../lyrics/future/sorry.html\" target=\"_blank\">Sorry</a>,\n",
       " <a href=\"../lyrics/future/pie.html\" target=\"_blank\">PIE</a>,\n",
       " <a href=\"../lyrics/future/youdabaddest.html\" target=\"_blank\">You Da Baddest</a>,\n",
       " <a id=\"50944\"></a>,\n",
       " <a href=\"../lyrics/future/nocap.html\" target=\"_blank\">No Cap</a>,\n",
       " <a href=\"../lyrics/future/three.html\" target=\"_blank\">Three</a>,\n",
       " <a href=\"../lyrics/future/alldasmoke.html\" target=\"_blank\">All Da Smoke</a>,\n",
       " <a href=\"../lyrics/future/200.html\" target=\"_blank\">200</a>,\n",
       " <a href=\"https://www.azlyrics.com/lyrics/youngthug/cruiseship.html\" target=\"_blank\">Cruise Ship</a>,\n",
       " <a href=\"../lyrics/future/patekwater.html\" target=\"_blank\">Patek Water</a>,\n",
       " <a href=\"../lyrics/future/feedmedope.html\" target=\"_blank\">Feed Me Dope</a>,\n",
       " <a href=\"../lyrics/future/driponme.html\" target=\"_blank\">Drip On Me</a>,\n",
       " <a href=\"../lyrics/future/reallove.html\" target=\"_blank\">Real Love</a>,\n",
       " <a href=\"../lyrics/future/4dagang.html\" target=\"_blank\">4 Da Gang</a>,\n",
       " <a href=\"https://www.azlyrics.com/lyrics/youngthug/killedbefore.html\" target=\"_blank\">Killed Before</a>,\n",
       " <a href=\"../lyrics/future/minkflow.html\" target=\"_blank\">Mink Flow</a>,\n",
       " <a href=\"../lyrics/future/grouphome.html\" target=\"_blank\">Group Home</a>,\n",
       " <a id=\"58223\"></a>,\n",
       " <a href=\"https://www.azlyrics.com/lyrics/sleepybrown/ifyouwantit.html\" target=\"_blank\">If You Want It</a>,\n",
       " <a href=\"../lyrics/future/whatsupwiththat.html\" target=\"_blank\">What's Up With That</a>,\n",
       " <a href=\"../lyrics/future/noshame.html\" target=\"_blank\">No Shame</a>,\n",
       " <a href=\"../lyrics/future/walkonminks.html\" target=\"_blank\">Walk On Minks</a>,\n",
       " <a href=\"../lyrics/future/tiemyshoes.html\" target=\"_blank\">Tie My Shoes</a>,\n",
       " <a href=\"../lyrics/future/stains.html\" target=\"_blank\">Stains</a>,\n",
       " <a href=\"../lyrics/future/showmychainsomelove.html\" target=\"_blank\">Show My Chain Some Love</a>,\n",
       " <a href=\"https://www.azlyrics.com/lyrics/miguel/ran.html\" target=\"_blank\">R.A.N.</a>,\n",
       " <a href=\"https://www.azlyrics.com/lyrics/khalid/thisway.html\" target=\"_blank\">This Way</a>,\n",
       " <a href=\"../lyrics/future/bag.html\" target=\"_blank\">Bag</a>,\n",
       " <a href=\"../lyrics/future/driveitself.html\" target=\"_blank\">Drive Itself</a>,\n",
       " <a href=\"../lyrics/future/moneytrain.html\" target=\"_blank\">Money Train</a>,\n",
       " <a href=\"../lyrics/future/nowhere.html\" target=\"_blank\">Nowhere</a>,\n",
       " <a href=\"https://www.azlyrics.com/lyrics/richthekid/trappinsohard.html\" target=\"_blank\">Trappin' So Hard</a>,\n",
       " <a href=\"https://www.azlyrics.com/lyrics/frenchmontana/newgoals.html\" target=\"_blank\">New Goals</a>,\n",
       " <a href=\"https://www.azlyrics.com/lyrics/lilherb/thatshowigrewupsuperflyversion.html\" target=\"_blank\">That's How I Grew Up</a>,\n",
       " <a href=\"https://www.azlyrics.com/lyrics/liljon/repyoclick.html\" target=\"_blank\">Rep Yo Click</a>,\n",
       " <a href=\"https://www.azlyrics.com/lyrics/lecrae/pleaseforgive.html\" target=\"_blank\">Please Forgive</a>,\n",
       " <a href=\"../lyrics/future/struggles.html\" target=\"_blank\">Struggles</a>,\n",
       " <a href=\"../lyrics/future/findmywayout.html\" target=\"_blank\">Find My Way Out</a>,\n",
       " <a href=\"https://www.azlyrics.com/lyrics/achal/laduea.html\" target=\"_blank\">La Dueña</a>,\n",
       " <a href=\"../lyrics/future/georgia.html\" target=\"_blank\">Georgia</a>,\n",
       " <a id=\"59280\"></a>,\n",
       " <a href=\"../lyrics/future/wifilit.html\" target=\"_blank\">WIFI LIT</a>,\n",
       " <a href=\"../lyrics/future/cuddlemywrist.html\" target=\"_blank\">CUDDLE MY WRIST</a>,\n",
       " <a href=\"../lyrics/future/racksblue.html\" target=\"_blank\">RACKS BLUE</a>,\n",
       " <a href=\"../lyrics/future/31days.html\" target=\"_blank\">31 DAYS</a>,\n",
       " <a href=\"../lyrics/future/redlight.html\" target=\"_blank\">RED LIGHT</a>,\n",
       " <a href=\"../lyrics/future/dohdoh.html\" target=\"_blank\">DOH DOH</a>,\n",
       " <a href=\"../lyrics/future/whenithinkaboutit.html\" target=\"_blank\">WHEN I THINK ABOUT IT</a>,\n",
       " <a href=\"../lyrics/future/somemore.html\" target=\"_blank\">SOME MORE</a>,\n",
       " <a href=\"../lyrics/future/hatetherealme.html\" target=\"_blank\">HATE THE REAL ME</a>,\n",
       " <a id=\"62329\"></a>,\n",
       " <a href=\"../lyrics/future/jetlag.html\" target=\"_blank\">Jet Lag</a>,\n",
       " <a href=\"../lyrics/future/astronauts.html\" target=\"_blank\">Astronauts</a>,\n",
       " <a href=\"../lyrics/future/finechina.html\" target=\"_blank\">Fine China</a>,\n",
       " <a href=\"../lyrics/future/redbentley.html\" target=\"_blank\">Red Bentley</a>,\n",
       " <a href=\"../lyrics/future/makeitback.html\" target=\"_blank\">Make It Back</a>,\n",
       " <a href=\"../lyrics/future/oxy.html\" target=\"_blank\">Oxy</a>,\n",
       " <a href=\"../lyrics/future/7amfreestyle.html\" target=\"_blank\">7 AM Freestyle</a>,\n",
       " <a href=\"../lyrics/future/different.html\" target=\"_blank\">Different</a>,\n",
       " <a href=\"../lyrics/future/shorty.html\" target=\"_blank\">Shorty</a>,\n",
       " <a href=\"../lyrics/future/realernrealer.html\" target=\"_blank\">Realer N Realer</a>,\n",
       " <a href=\"../lyrics/future/noissue.html\" target=\"_blank\">No Issue</a>,\n",
       " <a href=\"../lyrics/future/wrldondrugs.html\" target=\"_blank\">WRLD On Drugs</a>,\n",
       " <a href=\"../lyrics/future/afterlife.html\" target=\"_blank\">Afterlife</a>,\n",
       " <a href=\"../lyrics/future/aintlivinright.html\" target=\"_blank\">Ain't Livin Right</a>,\n",
       " <a href=\"../lyrics/future/transformer.html\" target=\"_blank\">Transformer</a>,\n",
       " <a href=\"../lyrics/future/hardworkpaysoff.html\" target=\"_blank\">Hard Work Pays Off</a>,\n",
       " <a href=\"https://www.azlyrics.com/lyrics/nerd/1000.html\" target=\"_blank\">1000</a>,\n",
       " <a href=\"../lyrics/future/100itracks.html\" target=\"_blank\">100it Racks</a>,\n",
       " <a href=\"../lyrics/future/absolutelygoingbrazy.html\" target=\"_blank\">Absolutely Going Brazy</a>,\n",
       " <a href=\"../lyrics/future/ainttryin.html\" target=\"_blank\">Ain't Tryin</a>,\n",
       " <a href=\"../lyrics/future/argentiny.html\" target=\"_blank\">Argentiny</a>,\n",
       " <a href=\"../lyrics/future/backinmybag.html\" target=\"_blank\">Back In My Bag</a>,\n",
       " <a href=\"../lyrics/future/bitchesgonetell.html\" target=\"_blank\">Bitches Gone Tell</a>,\n",
       " <a href=\"../lyrics/future/buylove.html\" target=\"_blank\">Buy Love</a>,\n",
       " <a href=\"http://www.azlyrics.com/lyrics/youngscooter/cantplayaround.html\" target=\"_blank\">Can't Play Around</a>,\n",
       " <a href=\"https://www.azlyrics.com/lyrics/tydollasign/darkside.html\" target=\"_blank\">Darkside</a>,\n",
       " <a href=\"../lyrics/future/deepinthat.html\" target=\"_blank\">Deep In That</a>,\n",
       " <a href=\"../lyrics/future/drunkinloveremix.html\" target=\"_blank\">Drunk In Love (Remix)</a>,\n",
       " <a href=\"../lyrics/future/extraluv.html\" target=\"_blank\">Extra Luv</a>,\n",
       " <a href=\"../lyrics/future/fuckupsomecommasremix.html\" target=\"_blank\">Fuck Up Some Commas (Remix)</a>,\n",
       " <a href=\"../lyrics/future/guaponme.html\" target=\"_blank\">Guap On Me</a>,\n",
       " <a href=\"../lyrics/future/havinit.html\" target=\"_blank\">Havin It</a>,\n",
       " <a href=\"../lyrics/future/howitfeel.html\" target=\"_blank\">How It Feel</a>,\n",
       " <a href=\"../lyrics/future/howitwas.html\" target=\"_blank\">How It Was</a>,\n",
       " <a href=\"../lyrics/future/icwnt.html\" target=\"_blank\">I.C.W.N.T.</a>,\n",
       " <a href=\"../lyrics/future/inabundance.html\" target=\"_blank\">In Abundance</a>,\n",
       " <a href=\"https://www.azlyrics.com/lyrics/jayrock/kingsdead.html\" target=\"_blank\">King's Dead</a>,\n",
       " <a href=\"../lyrics/future/lastbreath.html\" target=\"_blank\">Last Breath</a>,\n",
       " <a href=\"../lyrics/future/layover.html\" target=\"_blank\">Layover</a>,\n",
       " <a href=\"../lyrics/future/maskoffmarshmelloremix.html\" target=\"_blank\">Mask Off (Marshmello Remix)</a>,\n",
       " <a href=\"../lyrics/future/maskoffremix.html\" target=\"_blank\">Mask Off (Remix)</a>,\n",
       " <a href=\"../lyrics/future/meantome.html\" target=\"_blank\">Mean To Me</a>,\n",
       " <a href=\"../lyrics/future/mindblown.html\" target=\"_blank\">Mind Blown</a>,\n",
       " <a href=\"../lyrics/future/motionpicture.html\" target=\"_blank\">Motion Picture</a>,\n",
       " <a href=\"../lyrics/future/mynameholdweight.html\" target=\"_blank\">My Name Hold Weight</a>,\n",
       " <a href=\"../lyrics/future/newsorsomthn.html\" target=\"_blank\">News Or Somthn</a>,\n",
       " <a href=\"../lyrics/future/nolove.html\" target=\"_blank\">No Love</a>,\n",
       " <a href=\"../lyrics/future/os.html\" target=\"_blank\">Os</a>,\n",
       " <a href=\"../lyrics/future/paparazzi.html\" target=\"_blank\">Paparazzi</a>,\n",
       " <a href=\"http://www.azlyrics.com/lyrics/juicyj/payback.html\" target=\"_blank\">Payback</a>,\n",
       " <a href=\"../lyrics/future/popthembands.html\" target=\"_blank\">Pop Them Bands</a>,\n",
       " <a href=\"../lyrics/future/realandtrue.html\" target=\"_blank\">Real And True</a>,\n",
       " <a href=\"../lyrics/future/rockstar.html\" target=\"_blank\">Rock Star</a>,\n",
       " <a href=\"../lyrics/future/scammalot.html\" target=\"_blank\">Scammalot</a>,\n",
       " <a href=\"../lyrics/future/shit.html\" target=\"_blank\">Shit</a>,\n",
       " <a href=\"../lyrics/future/shitremix.html\" target=\"_blank\">Shit (Remix)</a>,\n",
       " <a href=\"../lyrics/future/smokeandmirrors.html\" target=\"_blank\">Smoke And Mirrors</a>,\n",
       " <a href=\"../lyrics/future/substituteeverything.html\" target=\"_blank\">Substitute Everything</a>,\n",
       " <a href=\"../lyrics/future/takeyouback.html\" target=\"_blank\">Take You Back</a>,\n",
       " <a href=\"../lyrics/future/thatsacheck.html\" target=\"_blank\">That's A Check</a>,\n",
       " <a href=\"https://www.azlyrics.com/lyrics/anuelaa/thinkin.html\" target=\"_blank\">Thinkin</a>,\n",
       " <a href=\"../lyrics/future/trance.html\" target=\"_blank\">Trance</a>,\n",
       " <a href=\"../lyrics/future/translator.html\" target=\"_blank\">Translator</a>,\n",
       " <a href=\"../lyrics/future/turnonthelightsremix.html\" target=\"_blank\">Turn On The Lights (Remix)</a>,\n",
       " <a href=\"../lyrics/future/upscale.html\" target=\"_blank\">Upscale</a>,\n",
       " <a href=\"../lyrics/future/usedtothis.html\" target=\"_blank\">Used To This</a>,\n",
       " <a href=\"../lyrics/future/watchthis.html\" target=\"_blank\">Watch This</a>,\n",
       " <a href=\"../lyrics/future/whatswrong.html\" target=\"_blank\">Whats Wrong</a>,\n",
       " <a href=\"../lyrics/future/wholelottaracks.html\" target=\"_blank\">Whole Lotta Racks</a>,\n",
       " <a href=\"../lyrics/future/yslcheetah.html\" target=\"_blank\">YSL Cheetah</a>]"
      ]
     },
     "execution_count": 34,
     "metadata": {},
     "output_type": "execute_result"
    }
   ],
   "source": [
    "album = albums[0]\n",
    "album.findNextSiblings('a')"
   ]
  },
  {
   "cell_type": "markdown",
   "metadata": {},
   "source": [
    "See anything we can use to seperate the songs out by album?!  \n",
    "\n",
    "One option is those \"id\" tags...the web page appears to be structured to have one of these at the end of a song list for a particular album.\n",
    "\n",
    "A second option would be to look at all of the previous song titles from the next album. Then all of the songs that were both after the first album and before the second album would be those that we're after!\n",
    "\n",
    "To be difficult, I'll choose the second method to demonstrate. I'll leave the other option for you as a challenge to practice on.\n",
    "\n",
    "This should also show you that web scraping can be messy, interactive and explorative; its often a process of analyzing a page, finding structure that you can leverage and iterating to retrieve the information you're after."
   ]
  },
  {
   "cell_type": "code",
   "execution_count": 39,
   "metadata": {},
   "outputs": [
    {
     "data": {
      "text/plain": [
       "[('Freeband Gang',\n",
       "  '../lyrics/future/freebandgang.html',\n",
       "  'mixtape: \"True Story\" (2011)'),\n",
       " ('Magic', '../lyrics/future/magic.html', 'mixtape: \"True Story\" (2011)')]"
      ]
     },
     "execution_count": 39,
     "metadata": {},
     "output_type": "execute_result"
    }
   ],
   "source": [
    "data = [] #Create a storage container\n",
    "for album_n in range(len(albums)):\n",
    "    #On the last album, we won't be able to look forward\n",
    "    if album_n == len(albums)-1:\n",
    "        cur_album = albums[album_n]\n",
    "        album_songs = cur_album.findNextSiblings('a')\n",
    "        for song in album_songs:\n",
    "            page = song.get('href')\n",
    "            title = song.text\n",
    "            album = cur_album.text\n",
    "            data.append((title, page, album))\n",
    "    else:\n",
    "        cur_album = albums[album_n]\n",
    "        next_album = albums[album_n+1]\n",
    "        saca = cur_album.findNextSiblings('a') #songs after current album\n",
    "        sbna = next_album.findPreviousSiblings('a') #songs before next album\n",
    "        album_songs = [song for song in saca if song in sbna] #album songs are those listed after the current album but before the next one!\n",
    "        for song in album_songs:\n",
    "            page = song.get('href')\n",
    "            title = song.text\n",
    "            album = cur_album.text\n",
    "            data.append((title, page, album))\n",
    "data[:2]"
   ]
  },
  {
   "cell_type": "code",
   "execution_count": 40,
   "metadata": {},
   "outputs": [
    {
     "name": "stdout",
     "output_type": "stream",
     "text": [
      "375 3\n"
     ]
    }
   ],
   "source": [
    "print(len(data), len(data[0]))"
   ]
  },
  {
   "cell_type": "markdown",
   "metadata": {},
   "source": [
    "### Storing Elements\n",
    "Let's start to clean everything up. To start let's create a Pandas DataFrame; a spreadsheet object similar to those from Microsoft Excel."
   ]
  },
  {
   "cell_type": "code",
   "execution_count": 41,
   "metadata": {},
   "outputs": [
    {
     "name": "stdout",
     "output_type": "stream",
     "text": [
      "375\n"
     ]
    },
    {
     "data": {
      "text/html": [
       "<div>\n",
       "<style scoped>\n",
       "    .dataframe tbody tr th:only-of-type {\n",
       "        vertical-align: middle;\n",
       "    }\n",
       "\n",
       "    .dataframe tbody tr th {\n",
       "        vertical-align: top;\n",
       "    }\n",
       "\n",
       "    .dataframe thead th {\n",
       "        text-align: right;\n",
       "    }\n",
       "</style>\n",
       "<table border=\"1\" class=\"dataframe\">\n",
       "  <thead>\n",
       "    <tr style=\"text-align: right;\">\n",
       "      <th></th>\n",
       "      <th>Song</th>\n",
       "      <th>Url_ext</th>\n",
       "      <th>Album</th>\n",
       "    </tr>\n",
       "  </thead>\n",
       "  <tbody>\n",
       "    <tr>\n",
       "      <th>0</th>\n",
       "      <td>Freeband Gang</td>\n",
       "      <td>../lyrics/future/freebandgang.html</td>\n",
       "      <td>mixtape: \"True Story\" (2011)</td>\n",
       "    </tr>\n",
       "    <tr>\n",
       "      <th>1</th>\n",
       "      <td>Magic</td>\n",
       "      <td>../lyrics/future/magic.html</td>\n",
       "      <td>mixtape: \"True Story\" (2011)</td>\n",
       "    </tr>\n",
       "    <tr>\n",
       "      <th>2</th>\n",
       "      <td>Ain't No Way Around It</td>\n",
       "      <td>../lyrics/future/aintnowayaroundit.html</td>\n",
       "      <td>mixtape: \"True Story\" (2011)</td>\n",
       "    </tr>\n",
       "    <tr>\n",
       "      <th>3</th>\n",
       "      <td>Tony Montana</td>\n",
       "      <td>../lyrics/future/tonymontana.html</td>\n",
       "      <td>mixtape: \"True Story\" (2011)</td>\n",
       "    </tr>\n",
       "    <tr>\n",
       "      <th>4</th>\n",
       "      <td>Bigger Picture</td>\n",
       "      <td>../lyrics/future/biggerpicture.html</td>\n",
       "      <td>mixtape: \"True Story\" (2011)</td>\n",
       "    </tr>\n",
       "  </tbody>\n",
       "</table>\n",
       "</div>"
      ],
      "text/plain": [
       "                     Song                                  Url_ext  \\\n",
       "0           Freeband Gang       ../lyrics/future/freebandgang.html   \n",
       "1                   Magic              ../lyrics/future/magic.html   \n",
       "2  Ain't No Way Around It  ../lyrics/future/aintnowayaroundit.html   \n",
       "3            Tony Montana        ../lyrics/future/tonymontana.html   \n",
       "4          Bigger Picture      ../lyrics/future/biggerpicture.html   \n",
       "\n",
       "                          Album  \n",
       "0  mixtape: \"True Story\" (2011)  \n",
       "1  mixtape: \"True Story\" (2011)  \n",
       "2  mixtape: \"True Story\" (2011)  \n",
       "3  mixtape: \"True Story\" (2011)  \n",
       "4  mixtape: \"True Story\" (2011)  "
      ]
     },
     "execution_count": 41,
     "metadata": {},
     "output_type": "execute_result"
    }
   ],
   "source": [
    "df = pd.DataFrame(data) #Create a DataFrame from the data\n",
    "print(len(df)) #See how long the dataset is (number of rows)\n",
    "df.columns = ['Song', 'Url_ext', 'Album']\n",
    "df.head() #Preview the DataFrame (default is first 5 rows) "
   ]
  },
  {
   "cell_type": "markdown",
   "metadata": {},
   "source": [
    "### Cleaning Elements\n",
    "\n",
    "Here's where your knowledge of string methods will come in super handy! You can also use more complex selection rules with Regular Expressions using the re package. See https://docs.python.org/3/library/re.html for more details!"
   ]
  },
  {
   "cell_type": "code",
   "execution_count": 43,
   "metadata": {},
   "outputs": [
    {
     "data": {
      "text/html": [
       "<div>\n",
       "<style scoped>\n",
       "    .dataframe tbody tr th:only-of-type {\n",
       "        vertical-align: middle;\n",
       "    }\n",
       "\n",
       "    .dataframe tbody tr th {\n",
       "        vertical-align: top;\n",
       "    }\n",
       "\n",
       "    .dataframe thead th {\n",
       "        text-align: right;\n",
       "    }\n",
       "</style>\n",
       "<table border=\"1\" class=\"dataframe\">\n",
       "  <thead>\n",
       "    <tr style=\"text-align: right;\">\n",
       "      <th></th>\n",
       "      <th>Song</th>\n",
       "      <th>Url_ext</th>\n",
       "      <th>Album</th>\n",
       "    </tr>\n",
       "  </thead>\n",
       "  <tbody>\n",
       "    <tr>\n",
       "      <th>0</th>\n",
       "      <td>Freeband Gang</td>\n",
       "      <td>../lyrics/future/freebandgang.html</td>\n",
       "      <td>\"True Story\" (2011)</td>\n",
       "    </tr>\n",
       "    <tr>\n",
       "      <th>1</th>\n",
       "      <td>Magic</td>\n",
       "      <td>../lyrics/future/magic.html</td>\n",
       "      <td>\"True Story\" (2011)</td>\n",
       "    </tr>\n",
       "    <tr>\n",
       "      <th>2</th>\n",
       "      <td>Ain't No Way Around It</td>\n",
       "      <td>../lyrics/future/aintnowayaroundit.html</td>\n",
       "      <td>\"True Story\" (2011)</td>\n",
       "    </tr>\n",
       "    <tr>\n",
       "      <th>3</th>\n",
       "      <td>Tony Montana</td>\n",
       "      <td>../lyrics/future/tonymontana.html</td>\n",
       "      <td>\"True Story\" (2011)</td>\n",
       "    </tr>\n",
       "    <tr>\n",
       "      <th>4</th>\n",
       "      <td>Bigger Picture</td>\n",
       "      <td>../lyrics/future/biggerpicture.html</td>\n",
       "      <td>\"True Story\" (2011)</td>\n",
       "    </tr>\n",
       "  </tbody>\n",
       "</table>\n",
       "</div>"
      ],
      "text/plain": [
       "                     Song                                  Url_ext  \\\n",
       "0           Freeband Gang       ../lyrics/future/freebandgang.html   \n",
       "1                   Magic              ../lyrics/future/magic.html   \n",
       "2  Ain't No Way Around It  ../lyrics/future/aintnowayaroundit.html   \n",
       "3            Tony Montana        ../lyrics/future/tonymontana.html   \n",
       "4          Bigger Picture      ../lyrics/future/biggerpicture.html   \n",
       "\n",
       "                  Album  \n",
       "0   \"True Story\" (2011)  \n",
       "1   \"True Story\" (2011)  \n",
       "2   \"True Story\" (2011)  \n",
       "3   \"True Story\" (2011)  \n",
       "4   \"True Story\" (2011)  "
      ]
     },
     "execution_count": 43,
     "metadata": {},
     "output_type": "execute_result"
    }
   ],
   "source": [
    "df['Album'] = df['Album'].map(lambda x: x.strip('ixtape:')) #remove the initial \"album:\". Hopefully none of the actual names contain that!!\n",
    "df.head() #Preview updated results"
   ]
  },
  {
   "cell_type": "code",
   "execution_count": 44,
   "metadata": {},
   "outputs": [
    {
     "data": {
      "text/html": [
       "<div>\n",
       "<style scoped>\n",
       "    .dataframe tbody tr th:only-of-type {\n",
       "        vertical-align: middle;\n",
       "    }\n",
       "\n",
       "    .dataframe tbody tr th {\n",
       "        vertical-align: top;\n",
       "    }\n",
       "\n",
       "    .dataframe thead th {\n",
       "        text-align: right;\n",
       "    }\n",
       "</style>\n",
       "<table border=\"1\" class=\"dataframe\">\n",
       "  <thead>\n",
       "    <tr style=\"text-align: right;\">\n",
       "      <th></th>\n",
       "      <th>Song</th>\n",
       "      <th>Url_ext</th>\n",
       "      <th>Album</th>\n",
       "      <th>Year</th>\n",
       "    </tr>\n",
       "  </thead>\n",
       "  <tbody>\n",
       "    <tr>\n",
       "      <th>0</th>\n",
       "      <td>Freeband Gang</td>\n",
       "      <td>../lyrics/future/freebandgang.html</td>\n",
       "      <td>\"True Story\" (2011)</td>\n",
       "      <td>2011</td>\n",
       "    </tr>\n",
       "    <tr>\n",
       "      <th>1</th>\n",
       "      <td>Magic</td>\n",
       "      <td>../lyrics/future/magic.html</td>\n",
       "      <td>\"True Story\" (2011)</td>\n",
       "      <td>2011</td>\n",
       "    </tr>\n",
       "    <tr>\n",
       "      <th>2</th>\n",
       "      <td>Ain't No Way Around It</td>\n",
       "      <td>../lyrics/future/aintnowayaroundit.html</td>\n",
       "      <td>\"True Story\" (2011)</td>\n",
       "      <td>2011</td>\n",
       "    </tr>\n",
       "    <tr>\n",
       "      <th>3</th>\n",
       "      <td>Tony Montana</td>\n",
       "      <td>../lyrics/future/tonymontana.html</td>\n",
       "      <td>\"True Story\" (2011)</td>\n",
       "      <td>2011</td>\n",
       "    </tr>\n",
       "    <tr>\n",
       "      <th>4</th>\n",
       "      <td>Bigger Picture</td>\n",
       "      <td>../lyrics/future/biggerpicture.html</td>\n",
       "      <td>\"True Story\" (2011)</td>\n",
       "      <td>2011</td>\n",
       "    </tr>\n",
       "  </tbody>\n",
       "</table>\n",
       "</div>"
      ],
      "text/plain": [
       "                     Song                                  Url_ext  \\\n",
       "0           Freeband Gang       ../lyrics/future/freebandgang.html   \n",
       "1                   Magic              ../lyrics/future/magic.html   \n",
       "2  Ain't No Way Around It  ../lyrics/future/aintnowayaroundit.html   \n",
       "3            Tony Montana        ../lyrics/future/tonymontana.html   \n",
       "4          Bigger Picture      ../lyrics/future/biggerpicture.html   \n",
       "\n",
       "                  Album  Year  \n",
       "0   \"True Story\" (2011)  2011  \n",
       "1   \"True Story\" (2011)  2011  \n",
       "2   \"True Story\" (2011)  2011  \n",
       "3   \"True Story\" (2011)  2011  \n",
       "4   \"True Story\" (2011)  2011  "
      ]
     },
     "execution_count": 44,
     "metadata": {},
     "output_type": "execute_result"
    }
   ],
   "source": [
    "def extract_year(album_title):\n",
    "    try:\n",
    "        return re.findall('[(](\\d\\d\\d\\d)[)]', album_title)[0]\n",
    "    except:\n",
    "        return 'Unknown'\n",
    "df['Year'] = df['Album'].map(extract_year)\n",
    "df.head()"
   ]
  },
  {
   "cell_type": "markdown",
   "metadata": {},
   "source": [
    "### Visualizing Results\n",
    "How many songs do we have for each album?"
   ]
  },
  {
   "cell_type": "code",
   "execution_count": 45,
   "metadata": {},
   "outputs": [],
   "source": [
    "%matplotlib inline \n",
    "#this allows us to use Pandas built in graphing within the notebook"
   ]
  },
  {
   "cell_type": "code",
   "execution_count": 46,
   "metadata": {},
   "outputs": [
    {
     "data": {
      "text/plain": [
       "other songs                                                                       54\n",
       " \"F.B.G. The Movie\" (2013)                                                        25\n",
       " \"Pluto\" (2012)                                                                   24\n",
       "soundtrack: \"SUPERFLY\" (2018)                                                     23\n",
       " \"Astronaut Status\" (2012)                                                        22\n",
       " \"HNDRXX\" (2017)                                                                  20\n",
       " \"DS2 (Dirty Sprite 2)\" (2015)                                                    19\n",
       " \"Honest\" (2014)                                                                  19\n",
       " \"Future\" (2017)                                                                  18\n",
       " \"Monster\" (2014)                                                                 18\n",
       " \"Future & Juice WRLD Present... WRLD ON DRUGS\" (2018)(as Future & Juice WRLD)    16\n",
       " \"56 Nights\" (2015)(with DJ ESCO)                                                 14\n",
       " \"SUPER SLIMEY\" (2017)(with Young Thug)                                           14\n",
       " \"Purple Reign\" (2016)                                                            14\n",
       " \"EVOL\" (2016)                                                                    12\n",
       " \"Beast Mode\" (2015)(with ZAYTOVEN)                                               12\n",
       " \"Streetz Calling\" (2011)                                                         12\n",
       " \"What A Time To Be Alive\" (2015)(with DRAKE)                                     12\n",
       " \"True Story\" (2011)                                                              10\n",
       " \"BEASTMODE 2\" (2018)                                                             10\n",
       " \"Free Bricks 2 (Zone 6 Edition)\" (2016)(with GUCCI MANE)                          7\n",
       "Name: Album, dtype: int64"
      ]
     },
     "execution_count": 46,
     "metadata": {},
     "output_type": "execute_result"
    }
   ],
   "source": [
    "df.Album.value_counts()"
   ]
  },
  {
   "cell_type": "code",
   "execution_count": 47,
   "metadata": {},
   "outputs": [
    {
     "data": {
      "text/plain": [
       "<matplotlib.axes._subplots.AxesSubplot at 0x7f147c048fd0>"
      ]
     },
     "execution_count": 47,
     "metadata": {},
     "output_type": "execute_result"
    },
    {
     "data": {
      "image/png": "[encoded data removed]",
      "text/plain": [
       "<Figure size 432x288 with 1 Axes>"
      ]
     },
     "metadata": {
      "needs_background": "light"
     },
     "output_type": "display_data"
    }
   ],
   "source": [
    "df.Album.value_counts().plot(kind='barh')"
   ]
  },
  {
   "cell_type": "markdown",
   "metadata": {},
   "source": [
    "### Cleaning it up: Adding a Title and Axes\n",
    "Here we import the pyplot class within the matplotlib package.  "
   ]
  },
  {
   "cell_type": "code",
   "execution_count": 48,
   "metadata": {},
   "outputs": [],
   "source": [
    "import matplotlib.pyplot as plt"
   ]
  },
  {
   "cell_type": "code",
   "execution_count": 49,
   "metadata": {},
   "outputs": [
    {
     "data": {
      "text/plain": [
       "Text(0, 0.5, 'Album Title')"
      ]
     },
     "execution_count": 49,
     "metadata": {},
     "output_type": "execute_result"
    },
    {
     "data": {
      "image/png": "[encoded data removed]",
      "text/plain": [
       "<Figure size 432x288 with 1 Axes>"
      ]
     },
     "metadata": {
      "needs_background": "light"
     },
     "output_type": "display_data"
    }
   ],
   "source": [
    "df.Album.value_counts().plot(kind='barh')\n",
    "plt.title('Number of Songs by Album')\n",
    "plt.xlabel('Number of Songs')\n",
    "plt.ylabel('Album Title')"
   ]
  },
  {
   "cell_type": "markdown",
   "metadata": {},
   "source": [
    "## Additional Resources\n",
    "\n",
    "#### Beatiful Soup - a good go to tool for parsing the DOM\n",
    "https://www.crummy.com/software/BeautifulSoup/?\n",
    "\n",
    "#### Selenium - Browser automation (useful when you need to interact with javascript for more complex scraping)\n",
    "https://www.seleniumhq.org/\n",
    "\n",
    "#### Scrapy - another package for scraping larger datasets at scale\n",
    "https://scrapy.org/"
   ]
  },
  {
   "cell_type": "markdown",
   "metadata": {},
   "source": [
    "## Summary\n",
    "You should now have a brief intro to web scraping! The possabilities are nearly endless with what you can do. That said, not all websites will be thrilled with your new prowess. Surfing the web at super human speeds will get you banned from many domains and may violate the terms & conditions of many websites that require login. As such, there are a few considerations you should take along your way.\n",
    "\n",
    "* Is there a terms and conditions for using the website?\n",
    "* Test your scraping bot on in small samples to debug before scaling to hundreds, thousands or millions of requests.\n",
    "* Start thinking about your IP address: getting blacklisted from a website is no fun. Consider using a VPN.\n",
    "* Slow your bot down! Add delays along the way with the time package. Specifically, time.sleep(seconds) adds wait time in a program."
   ]
  }
 ],
 "metadata": {
  "kernelspec": {
   "display_name": "Python 3",
   "language": "python",
   "name": "python3"
  },
  "language_info": {
   "codemirror_mode": {
    "name": "ipython",
    "version": 3
   },
   "file_extension": ".py",
   "mimetype": "text/x-python",
   "name": "python",
   "nbconvert_exporter": "python",
   "pygments_lexer": "ipython3",
   "version": "3.6.6"
  }
 },
 "nbformat": 4,
 "nbformat_minor": 2
}
